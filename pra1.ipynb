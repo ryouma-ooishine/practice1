{
 "cells": [
  {
   "cell_type": "markdown",
   "metadata": {},
   "source": [
    "https://paiza.jp/works/mondai/c_rank_level_up_problems/c_rank_dictionary_step1"
   ]
  },
  {
   "cell_type": "code",
   "execution_count": 1,
   "metadata": {},
   "outputs": [
    {
     "ename": "ValueError",
     "evalue": "invalid literal for int() with base 10: ''",
     "output_type": "error",
     "traceback": [
      "\u001b[0;31m---------------------------------------------------------------------------\u001b[0m",
      "\u001b[0;31mValueError\u001b[0m                                Traceback (most recent call last)",
      "Cell \u001b[0;32mIn[1], line 2\u001b[0m\n\u001b[1;32m      1\u001b[0m \u001b[38;5;66;03m#入力を受け取る\u001b[39;00m\n\u001b[0;32m----> 2\u001b[0m n \u001b[38;5;241m=\u001b[39m \u001b[38;5;28;43mint\u001b[39;49m\u001b[43m(\u001b[49m\u001b[38;5;28;43minput\u001b[39;49m\u001b[43m(\u001b[49m\u001b[43m)\u001b[49m\u001b[43m)\u001b[49m\n\u001b[1;32m      3\u001b[0m \u001b[38;5;66;03m#空の辞書作成\u001b[39;00m\n\u001b[1;32m      4\u001b[0m dic \u001b[38;5;241m=\u001b[39m {}\n",
      "\u001b[0;31mValueError\u001b[0m: invalid literal for int() with base 10: ''"
     ]
    }
   ],
   "source": [
    "#入力を受け取る\n",
    "n = int(input())\n",
    "#空の辞書作成\n",
    "dic = {}\n",
    "#入力を受け取る\n",
    "for i in range(n):\n",
    "    #入力を受け取る(Kirishima 1)\n",
    "    (a, b) = input().split()\n",
    "    #bをイント型にする\n",
    "    b = int(b)\n",
    "    #辞書dicにaをkeyでbを格納する\n",
    "    dic[a] = b\n",
    "\n",
    "#参照する人の入力を受け取る\n",
    "s = input()\n",
    "#受け取った人の名前から辞書dicから対応する値を引き出す\n",
    "print(dic[s])\n",
    "\n"
   ]
  },
  {
   "cell_type": "markdown",
   "metadata": {},
   "source": [
    "https://paiza.jp/works/mondai/c_rank_level_up_problems/c_rank_dictionary_step2"
   ]
  },
  {
   "cell_type": "code",
   "execution_count": null,
   "metadata": {},
   "outputs": [],
   "source": [
    "#入力を受け取る\n",
    "n = int(input())\n",
    "#空の辞書をつくる\n",
    "damage = {}\n",
    "#入力を受け取り、からの辞書に値０で格納していく\n",
    "for i in range(n):\n",
    "    #入力を受け取る\n",
    "    a = input()\n",
    "    #辞書にaをkeyで0を格納する\n",
    "    damage[a] = 0\n",
    "#ダメージの回数を数字で受け取る\n",
    "dmg = int(input())\n",
    "#ダメージを足していく\n",
    "for  i in range(dmg):\n",
    "    #入力を受け取る\n",
    "    a, b = input().split()\n",
    "    #整数に変換する\n",
    "    b = int(b)\n",
    "    #ダメージを合計して足していく\n",
    "    damage[a] += b\n",
    "#出力する人の名前を受け取る\n",
    "s = input()\n",
    "#結果を出力する\n",
    "print(damage[s])\n"
   ]
  },
  {
   "cell_type": "markdown",
   "metadata": {},
   "source": [
    "https://paiza.jp/works/mondai/c_rank_level_up_problems/c_rank_dictionary_step3"
   ]
  },
  {
   "cell_type": "code",
   "execution_count": 2,
   "metadata": {},
   "outputs": [],
   "source": [
    "#入力を受け取る\n",
    "n = int(input())\n",
    "#空のリストを作成\n",
    "dmg = {}\n",
    "#値０で辞書のkeyだけを埋め込んでいく\n",
    "for i in range(n):\n",
    "    s = input()\n",
    "    dmg[s] = 0\n",
    "\n",
    "m = int(input())\n",
    "#入力した値で辞書を更新していく\n",
    "for i in range(m):\n",
    "    [p, a] = input().split()\n",
    "    a = int(a)\n",
    "    #keyに対して、入力を足していく\n",
    "    dmg[p] += a\n",
    "#keyを参照するためのリストを作成\n",
    "names = list(dmg.keys())\n",
    "#アルファベット順なので、ソートする\n",
    "names.sort()\n",
    "#結果を出力する\n",
    "for name in names:\n",
    "    print(dmg[name])"
   ]
  },
  {
   "cell_type": "markdown",
   "metadata": {},
   "source": [
    "https://paiza.jp/works/mondai/c_rank_level_up_problems/c_rank_dictionary_boss"
   ]
  },
  {
   "cell_type": "code",
   "execution_count": null,
   "metadata": {},
   "outputs": [],
   "source": [
    "#入力を受け取る\n",
    "p,q,r = map(int, input().split())\n",
    "#A~B,B~Cの空の辞書を作る\n",
    "AB={}\n",
    "BC={}\n",
    "#pの回数入力を受け取る\n",
    "for _ in range(p):\n",
    "    a, b = map(int, input().split())\n",
    "    #リストに格納する\n",
    "    AB[a] = b\n",
    "#qの回数入力を受け取る\n",
    "for _ in range(q):\n",
    "    a, b = map(int, input().split())\n",
    "    #リストに格納する\n",
    "    BC[a]=b\n",
    "#A~Cのからの辞書を作成する。\n",
    "AC={}\n",
    "#A~Cへの辞書をつくる\n",
    "for i in range(1, p+1):\n",
    "    #A〜Cの辞書にB~Cへの辞書の値参照にA~Bへの辞書として、格納する。\n",
    "    AC[i]= BC[AB[i]] \n",
    "#結果の出力\n",
    "for i,j in AC.items():\n",
    "    print(i,j)"
   ]
  }
 ],
 "metadata": {
  "kernelspec": {
   "display_name": "Python 3",
   "language": "python",
   "name": "python3"
  },
  "language_info": {
   "codemirror_mode": {
    "name": "ipython",
    "version": 3
   },
   "file_extension": ".py",
   "mimetype": "text/x-python",
   "name": "python",
   "nbconvert_exporter": "python",
   "pygments_lexer": "ipython3",
   "version": "3.9.6"
  }
 },
 "nbformat": 4,
 "nbformat_minor": 2
}
